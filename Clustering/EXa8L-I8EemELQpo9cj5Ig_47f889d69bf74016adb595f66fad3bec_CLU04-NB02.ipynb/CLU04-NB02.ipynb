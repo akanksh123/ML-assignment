{
 "cells": [
  {
   "cell_type": "markdown",
   "metadata": {},
   "source": [
    "## Fitting a diagonal covariance Gaussian mixture model to text data\n",
    "\n",
    "In a previous assignment, we explored k-means clustering for a high-dimensional Wikipedia dataset. We can also model this data with a mixture of Gaussians, though with increasing dimension we run into two important issues associated with using a full covariance matrix for each component.\n",
    " * Computational cost becomes prohibitive in high dimensions: score calculations have complexity cubic in the number of dimensions M if the Gaussian has a full covariance matrix.\n",
    " * A model with many parameters require more data: observe that a full covariance matrix for an M-dimensional Gaussian will have M(M+1)/2 parameters to fit. With the number of parameters growing roughly as the square of the dimension, it may quickly become impossible to find a sufficient amount of data to make good inferences.\n",
    "\n",
    "Both of these issues are avoided if we require the covariance matrix of each component to be diagonal, as then it has only M parameters to fit and the score computation decomposes into M univariate score calculations. Recall from the lecture that the M-step for the full covariance is:\n",
    "\n",
    "\\begin{align*}\n",
    "\\hat{\\Sigma}_k &= \\frac{1}{N_k^{soft}} \\sum_{i=1}^N r_{ik} (x_i-\\hat{\\mu}_k)(x_i - \\hat{\\mu}_k)^T\n",
    "\\end{align*}\n",
    "\n",
    "Note that this is a square matrix with M rows and M columns, and the above equation implies that the (v, w) element is computed by\n",
    "\n",
    "\\begin{align*}\n",
    "\\hat{\\Sigma}_{k, v, w} &= \\frac{1}{N_k^{soft}} \\sum_{i=1}^N r_{ik} (x_{iv}-\\hat{\\mu}_{kv})(x_{iw} - \\hat{\\mu}_{kw})\n",
    "\\end{align*}\n",
    "\n",
    "When we assume that this is a diagonal matrix, then non-diagonal elements are assumed to be zero and we only need to compute each of the M elements along the diagonal independently using the following equation. \n",
    "\n",
    "\\begin{align*}\n",
    "\\hat{\\sigma}^2_{k, v} &= \\hat{\\Sigma}_{k, v, v}  \\\\\n",
    "&= \\frac{1}{N_k^{soft}} \\sum_{i=1}^N r_{ik} (x_{iv}-\\hat{\\mu}_{kv})^2\n",
    "\\end{align*}\n",
    "\n",
    "In this section, we will use an EM implementation to fit a Gaussian mixture model with **diagonal** covariances to a subset of the Wikipedia dataset. The implementation uses the above equation to compute each variance term. \n",
    "\n",
    "We'll begin by importing the dataset and coming up with a useful representation for each article. After running our algorithm on the data, we will explore the output to see whether we can give a meaningful interpretation to the fitted parameters in our model."
   ]
  },
  {
   "cell_type": "markdown",
   "metadata": {},
   "source": [
    "**Note to Amazon EC2 users**: To conserve memory, make sure to stop all the other notebooks before running this notebook."
   ]
  },
  {
   "cell_type": "markdown",
   "metadata": {},
   "source": [
    "## Import necessary packages"
   ]
  },
  {
   "cell_type": "code",
   "execution_count": 1,
   "metadata": {},
   "outputs": [],
   "source": [
    "from __future__ import print_function # to conform python 2.x print to python 3.x\n",
    "import turicreate"
   ]
  },
  {
   "cell_type": "markdown",
   "metadata": {},
   "source": [
    "We also have a Python file containing implementations for several functions that will be used during the course of this assignment."
   ]
  },
  {
   "cell_type": "code",
   "execution_count": 2,
   "metadata": {},
   "outputs": [],
   "source": [
    "from em_utilities import *"
   ]
  },
  {
   "cell_type": "markdown",
   "metadata": {},
   "source": [
    "## Load Wikipedia data and extract TF-IDF features"
   ]
  },
  {
   "cell_type": "markdown",
   "metadata": {},
   "source": [
    "Load Wikipedia data and transform each of the first 5000 document into a TF-IDF representation."
   ]
  },
  {
   "cell_type": "code",
   "execution_count": 3,
   "metadata": {},
   "outputs": [],
   "source": [
    "wiki = turicreate.SFrame('people_wiki.sframe/').head(5000)\n",
    "wiki['tf_idf'] = turicreate.text_analytics.tf_idf(wiki['text'])"
   ]
  },
  {
   "cell_type": "markdown",
   "metadata": {},
   "source": [
    "Using a utility we provide, we will create a sparse matrix representation of the documents. This is the same utility function you used during the previous assignment on k-means with text data."
   ]
  },
  {
   "cell_type": "code",
   "execution_count": 4,
   "metadata": {},
   "outputs": [],
   "source": [
    "wiki = wiki.add_row_number()\n",
    "tf_idf, map_word_to_index = sframe_to_scipy(wiki, 'tf_idf')\n",
    "map_index_to_word = dict([[map_word_to_index[i], i] for i in map_word_to_index.keys()])"
   ]
  },
  {
   "cell_type": "markdown",
   "metadata": {},
   "source": [
    "As in the previous assignment, we will normalize each document's TF-IDF vector to be a unit vector. "
   ]
  },
  {
   "cell_type": "code",
   "execution_count": 5,
   "metadata": {},
   "outputs": [
    {
     "name": "stdout",
     "output_type": "stream",
     "text": [
      "CPU times: user 13.2 ms, sys: 11.6 ms, total: 24.8 ms\n",
      "Wall time: 394 ms\n"
     ]
    }
   ],
   "source": [
    "%%time\n",
    "tf_idf = normalize(tf_idf)"
   ]
  },
  {
   "cell_type": "markdown",
   "metadata": {},
   "source": [
    "We can check that the length (Euclidean norm) of each row is now 1.0, as expected."
   ]
  },
  {
   "cell_type": "code",
   "execution_count": 6,
   "metadata": {
    "scrolled": true
   },
   "outputs": [
    {
     "name": "stdout",
     "output_type": "stream",
     "text": [
      "1.0\n",
      "1.0\n",
      "0.9999999999999997\n",
      "1.0000000000000007\n",
      "1.0\n"
     ]
    }
   ],
   "source": [
    "for i in range(5):\n",
    "    doc = tf_idf[i]\n",
    "    print(np.linalg.norm(doc.todense()))"
   ]
  },
  {
   "cell_type": "markdown",
   "metadata": {},
   "source": [
    "## EM in high dimensions\n",
    "\n",
    "EM for high-dimensional data requires some special treatment:\n",
    " * E step and M step must be vectorized as much as possible, as explicit loops are dreadfully slow in Python.\n",
    " * All operations must be cast in terms of sparse matrix operations, to take advantage of computational savings enabled by sparsity of data.\n",
    " * Initially, some words may be entirely absent from a cluster, causing the M step to produce zero mean and variance for those words.  This means any data point with one of those words will have 0 probability of being assigned to that cluster since the cluster allows for no variability (0 variance) around that count being 0 (0 mean). Since there is a small chance for those words to later appear in the cluster, we instead assign a small positive variance (~1e-10). Doing so also prevents numerical overflow.\n",
    " \n",
    "We provide the complete implementation for you in the file `em_utilities.py`. For those who are interested, you can read through the code to see how the sparse matrix implementation differs from the previous assignment. \n",
    "\n",
    "You are expected to answer some quiz questions using the results of clustering."
   ]
  },
  {
   "cell_type": "markdown",
   "metadata": {},
   "source": [
    "**Initializing mean parameters using k-means**\n",
    "\n",
    "Recall from the lectures that EM for Gaussian mixtures is very sensitive to the choice of initial means. With a bad initial set of means, EM may produce clusters that span a large area and are mostly overlapping. To eliminate such bad outcomes, we first produce a suitable set of initial means by using the cluster centers from running k-means.  That is, we first run k-means and then take the final set of means from the converged solution as the initial means in our EM algorithm."
   ]
  },
  {
   "cell_type": "code",
   "execution_count": 7,
   "metadata": {},
   "outputs": [
    {
     "name": "stdout",
     "output_type": "stream",
     "text": [
      "CPU times: user 3min 38s, sys: 3.16 s, total: 3min 41s\n",
      "Wall time: 3min 43s\n"
     ]
    }
   ],
   "source": [
    "%%time \n",
    "\n",
    "from sklearn.cluster import KMeans\n",
    "\n",
    "np.random.seed(5)\n",
    "num_clusters = 25\n",
    "\n",
    "# Use scikit-learn's k-means to simplify workflow\n",
    "#kmeans_model = KMeans(n_clusters=num_clusters, n_init=5, max_iter=400, random_state=1, n_jobs=-1) # uncomment to use parallelism -- may break on your installation\n",
    "kmeans_model = KMeans(n_clusters=num_clusters, n_init=5, max_iter=400, random_state=1, n_jobs=1)\n",
    "kmeans_model.fit(tf_idf)\n",
    "centroids, cluster_assignment = kmeans_model.cluster_centers_, kmeans_model.labels_\n",
    "\n",
    "means = [centroid for centroid in centroids]"
   ]
  },
  {
   "cell_type": "markdown",
   "metadata": {},
   "source": [
    "**Initializing cluster weights**\n",
    "\n",
    "We will initialize each cluster weight to be the proportion of documents assigned to that cluster by k-means above."
   ]
  },
  {
   "cell_type": "code",
   "execution_count": 11,
   "metadata": {},
   "outputs": [
    {
     "name": "stdout",
     "output_type": "stream",
     "text": [
      "CPU times: user 1.96 ms, sys: 53 µs, total: 2.01 ms\n",
      "Wall time: 1.54 ms\n"
     ]
    }
   ],
   "source": [
    "%%time \n",
    "\n",
    "num_docs = tf_idf.shape[0]\n",
    "weights = []\n",
    "for i in range(num_clusters):\n",
    "    # Compute the number of data points assigned to cluster i:\n",
    "    num_assigned = len(cluster_assignment[cluster_assignment==i]) # YOUR CODE HERE\n",
    "    w = float(num_assigned) / num_docs\n",
    "    weights.append(w)"
   ]
  },
  {
   "cell_type": "markdown",
   "metadata": {},
   "source": [
    "**Initializing covariances**\n",
    "\n",
    "To initialize our covariance parameters, we compute $\\hat{\\sigma}_{k, j}^2 = \\sum_{i=1}^{N}(x_{i,j} - \\hat{\\mu}_{k, j})^2$ for each feature $j$.  For features with really tiny variances, we assign 1e-8 instead to prevent numerical instability. We do this computation in a vectorized fashion in the following code block."
   ]
  },
  {
   "cell_type": "code",
   "execution_count": 12,
   "metadata": {},
   "outputs": [],
   "source": [
    "covs = []\n",
    "for i in range(num_clusters):\n",
    "    member_rows = tf_idf[cluster_assignment==i]\n",
    "    cov = (member_rows.multiply(member_rows) - 2*member_rows.dot(diag(means[i]))).sum(axis=0).A1 / member_rows.shape[0] \\\n",
    "          + means[i]**2\n",
    "    cov[cov < 1e-8] = 1e-8\n",
    "    covs.append(cov)"
   ]
  },
  {
   "cell_type": "markdown",
   "metadata": {},
   "source": [
    "**Running EM**\n",
    "\n",
    "Now that we have initialized all of our parameters, run EM."
   ]
  },
  {
   "cell_type": "code",
   "execution_count": 13,
   "metadata": {
    "scrolled": true
   },
   "outputs": [],
   "source": [
    "out = EM_for_high_dimension(tf_idf, means, covs, weights, cov_smoothing=1e-10)"
   ]
  },
  {
   "cell_type": "code",
   "execution_count": 14,
   "metadata": {},
   "outputs": [
    {
     "data": {
      "text/plain": [
       "[3855847476.7012835, 4844053202.46348, 4844053202.46348]"
      ]
     },
     "execution_count": 14,
     "metadata": {},
     "output_type": "execute_result"
    }
   ],
   "source": [
    "out['loglik']"
   ]
  },
  {
   "cell_type": "markdown",
   "metadata": {},
   "source": [
    "## Interpret clustering results"
   ]
  },
  {
   "cell_type": "markdown",
   "metadata": {},
   "source": [
    "In contrast to k-means, EM is able to explicitly model clusters of varying sizes and proportions. The relative magnitude of variances in the word dimensions tell us much about the nature of the clusters.\n",
    "\n",
    "Write yourself a cluster visualizer as follows.  Examining each cluster's mean vector, list the 5 words with the largest mean values (5 most common words in the cluster). For each word, also include the associated variance parameter (diagonal element of the covariance matrix). \n",
    "\n",
    "A sample output may be:\n",
    "```\n",
    "==========================================================\n",
    "Cluster 0: Largest mean parameters in cluster \n",
    "\n",
    "Word        Mean        Variance    \n",
    "football    1.08e-01    8.64e-03\n",
    "season      5.80e-02    2.93e-03\n",
    "club        4.48e-02    1.99e-03\n",
    "league      3.94e-02    1.08e-03\n",
    "played      3.83e-02    8.45e-04\n",
    "...\n",
    "```"
   ]
  },
  {
   "cell_type": "code",
   "execution_count": 81,
   "metadata": {},
   "outputs": [],
   "source": [
    "# Fill in the blanks\n",
    "def visualize_EM_clusters(tf_idf, means, covs, map_index_to_word):\n",
    "    print('')\n",
    "    print('==========================================================')\n",
    "#     print(tf_idf)\n",
    "    num_clusters = len(means)\n",
    "    for c in range(num_clusters):\n",
    "        print('Cluster {0:d}: Largest mean parameters in cluster '.format(c))\n",
    "        print('\\n{0: <12}{1: <12}{2: <12}'.format('Word', 'Mean', 'Variance'))\n",
    "#         print(means[c])\n",
    "        # The k'th element of sorted_word_ids should be the index of the word \n",
    "        # that has the k'th-largest value in the cluster mean. Hint: Use np.argsort().\n",
    "        sorted_word_ids = np.argsort(means[c])[-5:]  # YOUR CODE HERE\n",
    "#         print(sorted_word_ids[-5:])\n",
    "        for i in sorted_word_ids[:5]:\n",
    "            print('{0: <12}{1:<10.2e}{2:10.2e}'.format(map_index_to_word[i], \n",
    "                                                       means[c][i],\n",
    "                                                       covs[c][i]))\n",
    "        print('\\n==========================================================')"
   ]
  },
  {
   "cell_type": "code",
   "execution_count": 82,
   "metadata": {},
   "outputs": [
    {
     "name": "stdout",
     "output_type": "stream",
     "text": [
      "\n",
      "==========================================================\n",
      "Cluster 0: Largest mean parameters in cluster \n",
      "\n",
      "Word        Mean        Variance    \n",
      "[32014 54133 68378 32023 60179]\n",
      "elected     2.91e-02    8.95e-04\n",
      "liberal     2.93e-02    4.55e-03\n",
      "party       5.89e-02    2.61e-03\n",
      "election    5.89e-02    3.21e-03\n",
      "minister    7.57e-02    7.42e-03\n",
      "\n",
      "==========================================================\n",
      "Cluster 1: Largest mean parameters in cluster \n",
      "\n",
      "Word        Mean        Variance    \n",
      "[29096 35376 35680 36054 36016]\n",
      "directed    3.39e-02    2.22e-03\n",
      "feature     3.69e-02    1.81e-03\n",
      "festival    4.66e-02    3.60e-03\n",
      "films       5.50e-02    2.97e-03\n",
      "film        1.76e-01    6.07e-03\n",
      "\n",
      "==========================================================\n",
      "Cluster 2: Largest mean parameters in cluster \n",
      "\n",
      "Word        Mean        Variance    \n",
      "[28292 10950 38439 62192 10866]\n",
      "design      3.20e-02    4.59e-03\n",
      "artist      3.61e-02    1.44e-03\n",
      "gallery     3.65e-02    3.40e-03\n",
      "museum      5.62e-02    7.27e-03\n",
      "art         1.26e-01    6.83e-03\n",
      "\n",
      "==========================================================\n",
      "Cluster 3: Largest mean parameters in cluster \n",
      "\n",
      "Word        Mean        Variance    \n",
      "[88717 22491 70946 63113 13611]\n",
      "team        4.68e-02    1.30e-03\n",
      "coach       5.57e-02    5.91e-03\n",
      "points      6.25e-02    5.92e-03\n",
      "nba         1.01e-01    1.22e-02\n",
      "basketball  1.86e-01    7.78e-03\n",
      "\n",
      "==========================================================\n",
      "Cluster 4: Largest mean parameters in cluster \n",
      "\n",
      "Word        Mean        Variance    \n",
      "[53366 80581 45536 63881 44208]\n",
      "league      4.31e-02    1.53e-03\n",
      "season      5.05e-02    2.52e-03\n",
      "ice         6.40e-02    2.97e-03\n",
      "nhl         1.56e-01    1.64e-02\n",
      "hockey      2.45e-01    1.64e-02\n",
      "\n",
      "==========================================================\n",
      "Cluster 5: Largest mean parameters in cluster \n",
      "\n",
      "Word        Mean        Variance    \n",
      "[27918 29542 44811 81222 76386]\n",
      "democratic  4.46e-02    3.02e-03\n",
      "district    4.60e-02    2.37e-03\n",
      "house       4.64e-02    2.41e-03\n",
      "senate      5.41e-02    6.28e-03\n",
      "republican  7.93e-02    5.20e-03\n",
      "\n",
      "==========================================================\n",
      "Cluster 6: Largest mean parameters in cluster \n",
      "\n",
      "Word        Mean        Variance    \n",
      "[98158 98152 60398 43414 82004]\n",
      "womens      1.21e-02    1.46e-03\n",
      "women       1.43e-02    1.36e-03\n",
      "miss        2.22e-02    7.76e-03\n",
      "her         1.00e-01    3.14e-03\n",
      "she         1.60e-01    4.65e-03\n",
      "\n",
      "==========================================================\n",
      "Cluster 7: Largest mean parameters in cluster \n",
      "\n",
      "Word        Mean        Variance    \n",
      "[82004 58649 66032 56014 20600]\n",
      "she         4.18e-02    5.99e-03\n",
      "medal       4.28e-02    2.44e-03\n",
      "olympics    4.69e-02    2.59e-03\n",
      "m           4.70e-02    7.58e-03\n",
      "championships7.78e-02    5.17e-03\n",
      "\n",
      "==========================================================\n",
      "Cluster 8: Largest mean parameters in cluster \n",
      "\n",
      "Word        Mean        Variance    \n",
      "[42936 64885 89498 73459 16291]\n",
      "he          1.04e-02    6.05e-05\n",
      "novel       1.07e-02    1.43e-03\n",
      "that        1.10e-02    1.73e-04\n",
      "published   1.23e-02    6.16e-04\n",
      "book        1.45e-02    9.38e-04\n",
      "\n",
      "==========================================================\n",
      "Cluster 9: Largest mean parameters in cluster \n",
      "\n",
      "Word        Mean        Variance    \n",
      "[30434 36016  6953 43414 82004]\n",
      "drama       5.03e-02    6.40e-03\n",
      "film        5.98e-02    3.44e-03\n",
      "actress     7.65e-02    4.29e-03\n",
      "her         8.99e-02    2.74e-03\n",
      "she         1.37e-01    4.25e-03\n",
      "\n",
      "==========================================================\n",
      "Cluster 10: Largest mean parameters in cluster \n",
      "\n",
      "Word        Mean        Variance    \n",
      "[53366 22491 88717 21103 83970]\n",
      "league      3.07e-02    2.01e-03\n",
      "coach       3.09e-02    4.45e-03\n",
      "team        4.13e-02    2.15e-03\n",
      "chess       4.52e-02    1.66e-02\n",
      "soccer      1.15e-01    2.86e-02\n",
      "\n",
      "==========================================================\n",
      "Cluster 11: Largest mean parameters in cluster \n",
      "\n",
      "Word        Mean        Variance    \n",
      "[34210 81492 23318 20483 72208]\n",
      "executive   2.15e-02    1.23e-03\n",
      "served      2.24e-02    6.99e-04\n",
      "committee   2.34e-02    2.38e-03\n",
      "chairman    2.44e-02    1.97e-03\n",
      "president   2.52e-02    1.29e-03\n",
      "\n",
      "==========================================================\n",
      "Cluster 12: Largest mean parameters in cluster \n",
      "\n",
      "Word        Mean        Variance    \n",
      "[21332 51679 44487 48716 62213]\n",
      "chinese     3.12e-02    5.33e-03\n",
      "kong        3.50e-02    8.64e-03\n",
      "hong        3.78e-02    9.92e-03\n",
      "jazz        6.07e-02    1.14e-02\n",
      "music       7.26e-02    3.48e-03\n",
      "\n",
      "==========================================================\n",
      "Cluster 13: Largest mean parameters in cluster \n",
      "\n",
      "Word        Mean        Variance    \n",
      "[86563 72808 69786 44054 93598]\n",
      "studies     2.41e-02    1.95e-03\n",
      "professor   2.74e-02    1.08e-03\n",
      "philosophy  2.86e-02    5.35e-03\n",
      "history     3.38e-02    2.81e-03\n",
      "university  3.47e-02    8.89e-04\n",
      "\n",
      "==========================================================\n",
      "Cluster 14: Largest mean parameters in cluster \n",
      "\n",
      "Word        Mean        Variance    \n",
      "[23158 36016 89011  6924 89530]\n",
      "comedy      2.86e-02    3.91e-03\n",
      "film        2.93e-02    1.16e-03\n",
      "television  3.21e-02    1.67e-03\n",
      "actor       3.56e-02    2.91e-03\n",
      "theatre     4.93e-02    6.17e-03\n",
      "\n",
      "==========================================================\n",
      "Cluster 15: Largest mean parameters in cluster \n",
      "\n",
      "Word        Mean        Variance    \n",
      "[84318 75956 62213 13088  8199]\n",
      "song        2.50e-02    1.81e-03\n",
      "released    3.13e-02    1.11e-03\n",
      "music       4.18e-02    1.96e-03\n",
      "band        5.35e-02    4.21e-03\n",
      "album       6.76e-02    4.78e-03\n",
      "\n",
      "==========================================================\n",
      "Cluster 16: Largest mean parameters in cluster \n",
      "\n",
      "Word        Mean        Variance    \n",
      "[37125 20585 74243 69633 91150]\n",
      "formula     6.06e-02    1.31e-02\n",
      "championship6.27e-02    4.54e-03\n",
      "racing      8.45e-02    8.26e-03\n",
      "pga         1.08e-01    2.65e-02\n",
      "tour        1.14e-01    1.92e-02\n",
      "\n",
      "==========================================================\n",
      "Cluster 17: Largest mean parameters in cluster \n",
      "\n",
      "Word        Mean        Variance    \n",
      "[21006 13841 82443 74301 63715]\n",
      "chef        3.27e-02    1.18e-02\n",
      "bbc         3.63e-02    7.41e-03\n",
      "show        3.75e-02    2.56e-03\n",
      "radio       5.18e-02    4.62e-03\n",
      "news        5.76e-02    8.06e-03\n",
      "\n",
      "==========================================================\n",
      "Cluster 18: Largest mean parameters in cluster \n",
      "\n",
      "Word        Mean        Variance    \n",
      "[73926 22491 63828 99102 36933]\n",
      "quarterback 4.02e-02    7.16e-03\n",
      "coach       6.74e-02    7.85e-03\n",
      "nfl         6.98e-02    9.15e-03\n",
      "yards       7.37e-02    1.72e-02\n",
      "football    1.11e-01    5.60e-03\n",
      "\n",
      "==========================================================\n",
      "Cluster 19: Largest mean parameters in cluster \n",
      "\n",
      "Word        Mean        Variance    \n",
      "[26296 78490 80581 22366 53366]\n",
      "cup         4.22e-02    2.46e-03\n",
      "rugby       4.35e-02    8.18e-03\n",
      "season      4.77e-02    2.30e-03\n",
      "club        5.04e-02    2.64e-03\n",
      "league      5.21e-02    3.13e-03\n",
      "\n",
      "==========================================================\n",
      "Cluster 20: Largest mean parameters in cluster \n",
      "\n",
      "Word        Mean        Variance    \n",
      "[69725 23883 87812 62213 66538]\n",
      "philharmonic4.96e-02    3.27e-03\n",
      "conductor   8.16e-02    1.01e-02\n",
      "symphony    8.70e-02    1.08e-02\n",
      "music       1.23e-01    6.15e-03\n",
      "orchestra   1.31e-01    1.06e-02\n",
      "\n",
      "==========================================================\n",
      "Cluster 21: Largest mean parameters in cluster \n",
      "\n",
      "Word        Mean        Variance    \n",
      "[29542 11750 49555 25336 53197]\n",
      "district    3.72e-02    4.20e-03\n",
      "attorney    3.74e-02    4.30e-03\n",
      "judge       4.59e-02    4.44e-03\n",
      "court       6.84e-02    5.24e-03\n",
      "law         9.52e-02    8.35e-03\n",
      "\n",
      "==========================================================\n",
      "Cluster 22: Largest mean parameters in cluster \n",
      "\n",
      "Word        Mean        Variance    \n",
      "[80581 22366 11999  7481 36933]\n",
      "season      5.58e-02    1.83e-03\n",
      "club        5.93e-02    1.76e-03\n",
      "australian  7.91e-02    1.58e-03\n",
      "afl         9.58e-02    1.31e-02\n",
      "football    1.21e-01    6.14e-03\n",
      "\n",
      "==========================================================\n",
      "Cluster 23: Largest mean parameters in cluster \n",
      "\n",
      "Word        Mean        Variance    \n",
      "[69932 72808 93598 80220 76451]\n",
      "physics     2.61e-02    5.43e-03\n",
      "professor   3.20e-02    1.26e-03\n",
      "university  3.34e-02    7.14e-04\n",
      "science     3.50e-02    2.95e-03\n",
      "research    5.70e-02    2.68e-03\n",
      "\n",
      "==========================================================\n",
      "Cluster 24: Largest mean parameters in cluster \n",
      "\n",
      "Word        Mean        Variance    \n",
      "[84626 38528 56580 53366 13542]\n",
      "sox         4.55e-02    6.28e-03\n",
      "games       4.66e-02    1.93e-03\n",
      "major       5.09e-02    1.19e-03\n",
      "league      1.03e-01    3.63e-03\n",
      "baseball    1.16e-01    5.57e-03\n",
      "\n",
      "==========================================================\n"
     ]
    }
   ],
   "source": [
    "'''By EM'''\n",
    "visualize_EM_clusters(tf_idf, out['means'], out['covs'], map_index_to_word)"
   ]
  },
  {
   "cell_type": "markdown",
   "metadata": {},
   "source": [
    "**Quiz Question**. Select all the topics that have a cluster in the model created above. [multiple choice]\n",
    "\n",
    "- Baseball\n",
    "- Basketball\n",
    "- Soccer/Football\n",
    "- Music\n",
    "- Politics\n",
    "- Law\n",
    "- Finance"
   ]
  },
  {
   "cell_type": "markdown",
   "metadata": {},
   "source": [
    "## Comparing to random initialization"
   ]
  },
  {
   "cell_type": "markdown",
   "metadata": {},
   "source": [
    "Create variables for randomly initializing the EM algorithm. Complete the following code block."
   ]
  },
  {
   "cell_type": "code",
   "execution_count": 84,
   "metadata": {},
   "outputs": [],
   "source": [
    "np.random.seed(5) # See the note below to see why we set seed=5.\n",
    "num_clusters = len(means)\n",
    "num_docs, num_words = tf_idf.shape\n",
    "\n",
    "random_means = []\n",
    "random_covs = []\n",
    "random_weights = []\n",
    "\n",
    "for k in range(num_clusters):\n",
    "    \n",
    "    # Create a numpy array of length num_words with random normally distributed values.\n",
    "    # Use the standard univariate normal distribution (mean 0, variance 1).\n",
    "    # YOUR CODE HERE\n",
    "    mean = np.random.normal(0, 1, num_words)\n",
    "    \n",
    "    # Create a numpy array of length num_words with random values uniformly distributed between 1 and 5.\n",
    "    # YOUR CODE HERE\n",
    "    cov = np.linspace(1,5,num=num_words)\n",
    "\n",
    "    # Initially give each cluster equal weight.\n",
    "    # YOUR CODE HERE\n",
    "    weight = 1\n",
    "    \n",
    "    random_means.append(mean)\n",
    "    random_covs.append(cov)\n",
    "    random_weights.append(weight)"
   ]
  },
  {
   "cell_type": "markdown",
   "metadata": {},
   "source": [
    "**Quiz Question**: Try fitting EM with the random initial parameters you created above. (Use `cov_smoothing=1e-5`.) Store the result to `out_random_init`. What is the final loglikelihood that the algorithm converges to?"
   ]
  },
  {
   "cell_type": "code",
   "execution_count": 85,
   "metadata": {},
   "outputs": [],
   "source": [
    "out_random_init=EM_for_high_dimension(tf_idf, random_means, random_covs, random_weights, cov_smoothing=1e-5)"
   ]
  },
  {
   "cell_type": "markdown",
   "metadata": {},
   "source": [
    "**Quiz Question:** Is the final loglikelihood larger or smaller than the final loglikelihood we obtained above when initializing EM with the results from running k-means?"
   ]
  },
  {
   "cell_type": "code",
   "execution_count": 87,
   "metadata": {},
   "outputs": [
    {
     "data": {
      "text/plain": [
       "[-764319032.5758231,\n",
       " 2282795185.5610633,\n",
       " 2363201869.854991,\n",
       " 2363425279.407482,\n",
       " 2363425279.407482]"
      ]
     },
     "execution_count": 87,
     "metadata": {},
     "output_type": "execute_result"
    }
   ],
   "source": [
    "out_random_init['loglik']"
   ]
  },
  {
   "cell_type": "markdown",
   "metadata": {},
   "source": [
    "**Quiz Question**: For the above model, `out_random_init`, use the `visualize_EM_clusters` method you created above. Are the clusters more or less interpretable than the ones found after initializing using k-means?"
   ]
  },
  {
   "cell_type": "code",
   "execution_count": 88,
   "metadata": {},
   "outputs": [
    {
     "name": "stdout",
     "output_type": "stream",
     "text": [
      "\n",
      "==========================================================\n",
      "Cluster 0: Largest mean parameters in cluster \n",
      "\n",
      "Word        Mean        Variance    \n",
      "[53197 36016 42936 12276 82004]\n",
      "law         1.11e-02    1.78e-03\n",
      "film        1.30e-02    2.00e-03\n",
      "he          1.36e-02    1.10e-04\n",
      "award       1.37e-02    9.52e-04\n",
      "she         1.57e-02    2.16e-03\n",
      "\n",
      "==========================================================\n",
      "Cluster 1: Largest mean parameters in cluster \n",
      "\n",
      "Word        Mean        Variance    \n",
      "[80581 82004 53366 62213 36016]\n",
      "season      1.31e-02    1.01e-03\n",
      "she         1.34e-02    1.60e-03\n",
      "league      1.40e-02    1.20e-03\n",
      "music       1.46e-02    1.31e-03\n",
      "film        1.62e-02    3.36e-03\n",
      "\n",
      "==========================================================\n",
      "Cluster 2: Largest mean parameters in cluster \n",
      "\n",
      "Word        Mean        Variance    \n",
      "[93598 10866 36016 43414 82004]\n",
      "university  1.09e-02    2.89e-04\n",
      "art         1.24e-02    1.79e-03\n",
      "film        1.47e-02    1.55e-03\n",
      "her         1.64e-02    1.53e-03\n",
      "she         1.96e-02    2.30e-03\n",
      "\n",
      "==========================================================\n",
      "Cluster 3: Largest mean parameters in cluster \n",
      "\n",
      "Word        Mean        Variance    \n",
      "[42936 80581 53366 43414 82004]\n",
      "he          1.22e-02    1.28e-04\n",
      "season      1.25e-02    6.13e-04\n",
      "league      1.81e-02    2.19e-03\n",
      "her         1.95e-02    1.99e-03\n",
      "she         2.87e-02    4.24e-03\n",
      "\n",
      "==========================================================\n",
      "Cluster 4: Largest mean parameters in cluster \n",
      "\n",
      "Word        Mean        Variance    \n",
      "[93598 53197 42936 43414 82004]\n",
      "university  1.02e-02    3.25e-04\n",
      "law         1.03e-02    1.01e-03\n",
      "he          1.18e-02    1.02e-04\n",
      "her         1.25e-02    9.92e-04\n",
      "she         2.82e-02    4.07e-03\n",
      "\n",
      "==========================================================\n",
      "Cluster 5: Largest mean parameters in cluster \n",
      "\n",
      "Word        Mean        Variance    \n",
      "[38723 42936  8199 66345 82004]\n",
      "garrett     1.22e-02    6.54e-03\n",
      "he          1.26e-02    1.09e-04\n",
      "album       1.30e-02    1.00e-03\n",
      "opera       1.74e-02    8.24e-03\n",
      "she         2.90e-02    5.54e-03\n",
      "\n",
      "==========================================================\n",
      "Cluster 6: Largest mean parameters in cluster \n",
      "\n",
      "Word        Mean        Variance    \n",
      "[62213 60179 42993 43414 82004]\n",
      "music       1.12e-02    1.49e-03\n",
      "minister    1.13e-02    1.66e-03\n",
      "health      1.29e-02    5.36e-03\n",
      "her         2.23e-02    2.09e-03\n",
      "she         3.69e-02    5.82e-03\n",
      "\n",
      "==========================================================\n",
      "Cluster 7: Largest mean parameters in cluster \n",
      "\n",
      "Word        Mean        Variance    \n",
      "[43414 16291 42936  8176 82004]\n",
      "her         1.10e-02    9.31e-04\n",
      "book        1.10e-02    9.06e-04\n",
      "he          1.21e-02    9.22e-05\n",
      "alberta     1.24e-02    5.26e-03\n",
      "she         1.55e-02    1.76e-03\n",
      "\n",
      "==========================================================\n",
      "Cluster 8: Largest mean parameters in cluster \n",
      "\n",
      "Word        Mean        Variance    \n",
      "[ 8199 62192 82004 43414 10866]\n",
      "album       1.79e-02    1.68e-03\n",
      "museum      1.92e-02    3.73e-03\n",
      "she         2.09e-02    2.52e-03\n",
      "her         2.13e-02    2.34e-03\n",
      "art         3.10e-02    5.84e-03\n",
      "\n",
      "==========================================================\n",
      "Cluster 9: Largest mean parameters in cluster \n",
      "\n",
      "Word        Mean        Variance    \n",
      "[93598 42936  8199 43414 82004]\n",
      "university  1.01e-02    3.13e-04\n",
      "he          1.17e-02    1.01e-04\n",
      "album       1.64e-02    2.73e-03\n",
      "her         1.65e-02    1.83e-03\n",
      "she         2.07e-02    2.23e-03\n",
      "\n",
      "==========================================================\n",
      "Cluster 10: Largest mean parameters in cluster \n",
      "\n",
      "Word        Mean        Variance    \n",
      "[43414 36933 93598 42936 82004]\n",
      "her         1.03e-02    1.10e-03\n",
      "football    1.14e-02    1.80e-03\n",
      "university  1.30e-02    4.64e-04\n",
      "he          1.34e-02    1.03e-04\n",
      "she         1.67e-02    2.54e-03\n",
      "\n",
      "==========================================================\n",
      "Cluster 11: Largest mean parameters in cluster \n",
      "\n",
      "Word        Mean        Variance    \n",
      "[80581 42936 13542 53366 82004]\n",
      "season      1.25e-02    8.30e-04\n",
      "he          1.34e-02    1.15e-04\n",
      "baseball    1.52e-02    1.82e-03\n",
      "league      1.78e-02    1.70e-03\n",
      "she         1.81e-02    2.54e-03\n",
      "\n",
      "==========================================================\n",
      "Cluster 12: Largest mean parameters in cluster \n",
      "\n",
      "Word        Mean        Variance    \n",
      "[42936 16291 93598 43414 82004]\n",
      "he          1.16e-02    8.89e-05\n",
      "book        1.24e-02    9.68e-04\n",
      "university  1.24e-02    4.50e-04\n",
      "her         1.64e-02    1.59e-03\n",
      "she         1.89e-02    2.02e-03\n",
      "\n",
      "==========================================================\n",
      "Cluster 13: Largest mean parameters in cluster \n",
      "\n",
      "Word        Mean        Variance    \n",
      "[98164 62213 42936 43414 82004]\n",
      "won         9.03e-03    3.35e-04\n",
      "music       9.29e-03    7.04e-04\n",
      "he          1.21e-02    1.01e-04\n",
      "her         1.51e-02    1.41e-03\n",
      "she         2.09e-02    2.81e-03\n",
      "\n",
      "==========================================================\n",
      "Cluster 14: Largest mean parameters in cluster \n",
      "\n",
      "Word        Mean        Variance    \n",
      "[ 8199 53366 62213 43414 82004]\n",
      "album       1.26e-02    1.71e-03\n",
      "league      1.30e-02    1.41e-03\n",
      "music       1.52e-02    1.34e-03\n",
      "her         1.56e-02    1.72e-03\n",
      "she         2.19e-02    2.73e-03\n",
      "\n",
      "==========================================================\n",
      "Cluster 15: Largest mean parameters in cluster \n",
      "\n",
      "Word        Mean        Variance    \n",
      "[62213 70903 42936 36016 82004]\n",
      "music       1.29e-02    1.39e-03\n",
      "poetry      1.31e-02    2.93e-03\n",
      "he          1.38e-02    9.84e-05\n",
      "film        1.59e-02    2.35e-03\n",
      "she         1.73e-02    2.62e-03\n",
      "\n",
      "==========================================================\n",
      "Cluster 16: Largest mean parameters in cluster \n",
      "\n",
      "Word        Mean        Variance    \n",
      "[42936 62213 36016 43414 82004]\n",
      "he          1.17e-02    1.10e-04\n",
      "music       1.25e-02    1.10e-03\n",
      "film        1.37e-02    1.90e-03\n",
      "her         2.16e-02    1.86e-03\n",
      "she         3.53e-02    5.14e-03\n",
      "\n",
      "==========================================================\n",
      "Cluster 17: Largest mean parameters in cluster \n",
      "\n",
      "Word        Mean        Variance    \n",
      "[47407 42936 62213 43414 82004]\n",
      "international9.97e-03    5.43e-04\n",
      "he          1.13e-02    9.93e-05\n",
      "music       1.46e-02    2.05e-03\n",
      "her         1.73e-02    1.51e-03\n",
      "she         2.74e-02    3.95e-03\n",
      "\n",
      "==========================================================\n",
      "Cluster 18: Largest mean parameters in cluster \n",
      "\n",
      "Word        Mean        Variance    \n",
      "[36016 62213  8199 43414 82004]\n",
      "film        1.26e-02    1.58e-03\n",
      "music       1.51e-02    1.62e-03\n",
      "album       1.64e-02    2.94e-03\n",
      "her         3.21e-02    3.77e-03\n",
      "she         3.36e-02    3.76e-03\n",
      "\n",
      "==========================================================\n",
      "Cluster 19: Largest mean parameters in cluster \n",
      "\n",
      "Word        Mean        Variance    \n",
      "[13542 60179 53366 43414 82004]\n",
      "baseball    1.39e-02    2.52e-03\n",
      "minister    1.40e-02    2.65e-03\n",
      "league      1.70e-02    1.45e-03\n",
      "her         1.99e-02    1.72e-03\n",
      "she         3.43e-02    4.96e-03\n",
      "\n",
      "==========================================================\n",
      "Cluster 20: Largest mean parameters in cluster \n",
      "\n",
      "Word        Mean        Variance    \n",
      "[32023 43414 53197 42936 82004]\n",
      "election    1.25e-02    1.31e-03\n",
      "her         1.28e-02    1.04e-03\n",
      "law         1.33e-02    1.89e-03\n",
      "he          1.39e-02    1.36e-04\n",
      "she         2.84e-02    4.27e-03\n",
      "\n",
      "==========================================================\n",
      "Cluster 21: Largest mean parameters in cluster \n",
      "\n",
      "Word        Mean        Variance    \n",
      "[76451 43414 42936 93598 82004]\n",
      "research    1.19e-02    1.09e-03\n",
      "her         1.34e-02    1.25e-03\n",
      "he          1.38e-02    1.39e-04\n",
      "university  1.39e-02    5.24e-04\n",
      "she         2.25e-02    3.59e-03\n",
      "\n",
      "==========================================================\n",
      "Cluster 22: Largest mean parameters in cluster \n",
      "\n",
      "Word        Mean        Variance    \n",
      "[43414 80581 42936 62213 82004]\n",
      "her         1.30e-02    1.28e-03\n",
      "season      1.35e-02    1.18e-03\n",
      "he          1.36e-02    1.06e-04\n",
      "music       1.48e-02    1.63e-03\n",
      "she         1.87e-02    2.51e-03\n",
      "\n",
      "==========================================================\n",
      "Cluster 23: Largest mean parameters in cluster \n",
      "\n",
      "Word        Mean        Variance    \n",
      "[72208 43414 42936  8199 82004]\n",
      "president   9.99e-03    6.79e-04\n",
      "her         1.17e-02    1.15e-03\n",
      "he          1.19e-02    9.27e-05\n",
      "album       1.44e-02    1.58e-03\n",
      "she         1.59e-02    2.32e-03\n",
      "\n",
      "==========================================================\n",
      "Cluster 24: Largest mean parameters in cluster \n",
      "\n",
      "Word        Mean        Variance    \n",
      "[13542 70583 42936 80581 53366]\n",
      "baseball    1.36e-02    1.66e-03\n",
      "played      1.49e-02    7.37e-04\n",
      "he          1.62e-02    1.29e-04\n",
      "season      1.80e-02    1.26e-03\n",
      "league      2.85e-02    3.29e-03\n",
      "\n",
      "==========================================================\n"
     ]
    }
   ],
   "source": [
    "# YOUR CODE HERE. Use visualize_EM_clusters, which will require you to pass in tf_idf and map_index_to_word.\n",
    "visualize_EM_clusters(tf_idf, out_random_init['means'], out_random_init['covs'], map_index_to_word)"
   ]
  },
  {
   "cell_type": "markdown",
   "metadata": {
    "collapsed": true
   },
   "source": [
    "**Note**: Random initialization may sometimes produce a superior fit than k-means initialization. We do not claim that random initialization is always worse. However, this section does illustrate that random initialization often produces much worse clustering than k-means counterpart. This is the reason why we provide the particular random seed (`np.random.seed(5)`)."
   ]
  },
  {
   "cell_type": "markdown",
   "metadata": {
    "collapsed": true
   },
   "source": [
    "## Takeaway\n",
    "\n",
    "In this assignment we were able to apply the EM algorithm to a mixture of Gaussians model of text data. This was made possible by modifying the model to assume a diagonal covariance for each cluster, and by modifying the implementation to use a sparse matrix representation. In the second part you explored the role of k-means initialization on the convergence of the model as well as the interpretability of the clusters."
   ]
  },
  {
   "cell_type": "code",
   "execution_count": null,
   "metadata": {},
   "outputs": [],
   "source": []
  }
 ],
 "metadata": {
  "anaconda-cloud": {},
  "kernelspec": {
   "display_name": "Python 3",
   "language": "python",
   "name": "python3"
  },
  "language_info": {
   "codemirror_mode": {
    "name": "ipython",
    "version": 3
   },
   "file_extension": ".py",
   "mimetype": "text/x-python",
   "name": "python",
   "nbconvert_exporter": "python",
   "pygments_lexer": "ipython3",
   "version": "3.7.7"
  }
 },
 "nbformat": 4,
 "nbformat_minor": 1
}
